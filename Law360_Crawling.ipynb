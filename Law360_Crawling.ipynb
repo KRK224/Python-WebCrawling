{
 "cells": [
  {
   "cell_type": "code",
   "execution_count": 34,
   "metadata": {},
   "outputs": [],
   "source": [
    "from selenium import webdriver as wd\n",
    "from bs4 import BeautifulSoup as bs\n",
    "from selenium.webdriver.common.keys import Keys\n",
    "import numpy as np\n",
    "import pandas as pd\n",
    "import json\n",
    "import requests\n",
    "import csv\n",
    "import datetime\n",
    "\n",
    "url = 'https://www.law360.com/'\n",
    "\n",
    "with open(\"./Login.json\",\"r\") as f:\n",
    "    json_user = json.load(f)\n",
    "\n",
    "user_id = json_user['UserName']\n",
    "user_pw = json_user['pw']\n",
    "\n",
    "driver = wd.Chrome('./chromedriver')\n",
    "driver.implicitly_wait(1)\n",
    "driver.get(url)\n",
    "driver.implicitly_wait(1)\n",
    "\n",
    "signin = driver.find_element_by_xpath('//*[@id=\"navigation_new\"]/div[2]/div[1]/span/a')\n",
    "signin.click()\n",
    "driver.implicitly_wait(1)"
   ]
  },
  {
   "cell_type": "code",
   "execution_count": 35,
   "metadata": {},
   "outputs": [],
   "source": [
    "email = driver.find_element_by_xpath('//*[@id=\"email\"]')\n",
    "pw = driver.find_element_by_xpath('//*[@id=\"password\"]')\n",
    "submit = driver.find_element_by_xpath('//*[@id=\"btnSignIn\"]')\n",
    "\n",
    "email.send_keys(user_id)\n",
    "pw.send_keys(user_pw)\n",
    "submit.click()\n",
    "driver.implicitly_wait(1)"
   ]
  },
  {
   "cell_type": "code",
   "execution_count": 44,
   "metadata": {},
   "outputs": [],
   "source": [
    "def srchFunc (srchTable):\n",
    "\n",
    "\n",
    "    for i in range(len(srchTable)):\n",
    "        \n",
    "        srchTerm = srchTable['Client'][i] + \" v. \"+ srchTable['Opposite'][i]\n",
    "        print(srchTerm)\n",
    "        srchInput = driver.find_element_by_xpath('//*[@id=\"global_search_field\"]')\n",
    "        srchBtn = driver.find_element_by_xpath('//*[@id=\"btnSearchResults\"]')\n",
    "        srchInput.clear()\n",
    "        srchInput.send_keys(srchTerm)\n",
    "        srchBtn.click()\n",
    "        CasesTab = driver.find_element_by_xpath('//*[@id=\"results\"]/ul/li[2]/a')\n",
    "        CasesTab.click()\n",
    "        driver.implicitly_wait(1)\n",
    "            \n",
    "\n"
   ]
  },
  {
   "cell_type": "code",
   "execution_count": 46,
   "metadata": {},
   "outputs": [
    {
     "name": "stdout",
     "output_type": "stream",
     "text": [
      "                Client  Opposite\n",
      "0        SK Innovation   LG Chem\n",
      "1  Samsung Electronics    ELM3DS\n",
      "2  Samsung Electronics  Ericsson\n",
      "SK Innovation v. LG Chem\n",
      "Samsung Electronics v. ELM3DS\n",
      "Samsung Electronics v. Ericsson\n"
     ]
    }
   ],
   "source": [
    "srchTable = pd.read_excel('./searchTable.xlsx')\n",
    "print(srchTable)\n",
    "len(srchTable)\n",
    "\n",
    "srchFunc(srchTable)\n",
    "\n",
    "\n",
    "\n"
   ]
  },
  {
   "cell_type": "code",
   "execution_count": null,
   "metadata": {},
   "outputs": [],
   "source": []
  }
 ],
 "metadata": {
  "kernelspec": {
   "display_name": "Python 3",
   "language": "python",
   "name": "python3"
  },
  "language_info": {
   "codemirror_mode": {
    "name": "ipython",
    "version": 3
   },
   "file_extension": ".py",
   "mimetype": "text/x-python",
   "name": "python",
   "nbconvert_exporter": "python",
   "pygments_lexer": "ipython3",
   "version": "3.7.6"
  }
 },
 "nbformat": 4,
 "nbformat_minor": 4
}
