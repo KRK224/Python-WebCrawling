{
 "cells": [
  {
   "cell_type": "code",
   "execution_count": 1,
   "metadata": {},
   "outputs": [],
   "source": [
    "from selenium import webdriver as wd\n",
    "from bs4 import BeautifulSoup as bs\n",
    "import requests\n",
    "import csv\n",
    "import datetime\n",
    "\n",
    "url = 'https://www.law360.com/'\n",
    "\n",
    "driver = wd.Chrome('./chromedriver')\n",
    "driver.implicitly_wait(1)\n",
    "driver.get(url)\n",
    "driver.implicitly_wait(1)\n",
    "\n",
    "signin = driver.find_element_by_xpath('//*[@id=\"navigation_new\"]/div[2]/div[1]/span/a')\n",
    "signin.click()\n",
    "driver.implicitly_wait(1)"
   ]
  },
  {
   "cell_type": "code",
   "execution_count": 2,
   "metadata": {},
   "outputs": [],
   "source": [
    "email = driver.find_element_by_xpath('//*[@id=\"email\"]')\n",
    "pw = driver.find_element_by_xpath('//*[@id=\"password\"]')\n",
    "submit = driver.find_element_by_xpath('//*[@id=\"btnSignIn\"]')\n",
    "\n",
    "email.send_keys('david_hahm@fronteo.com')\n",
    "pw.send_keys('fronteo1')\n",
    "submit.click()\n",
    "driver.implicitly_wait(1)"
   ]
  },
  {
   "cell_type": "code",
   "execution_count": 5,
   "metadata": {},
   "outputs": [],
   "source": [
    "srchInput = driver.find_element_by_xpath('//*[@id=\"global_search_field\"]')\n",
    "srchBtn = driver.find_element_by_xpath('//*[@id=\"btnSearchResults\"]')\n",
    "\n",
    "srchInput.send_keys('Samsung Electronics v. ELM3DS')\n",
    "srchBtn.click()\n",
    "\n",
    "CasesTab = driver.find_element_by_xpath('//*[@id=\"results\"]/ul/li[2]/a')\n",
    "CasesTab.click()\n",
    "\n"
   ]
  },
  {
   "cell_type": "code",
   "execution_count": null,
   "metadata": {},
   "outputs": [],
   "source": []
  }
 ],
 "metadata": {
  "kernelspec": {
   "display_name": "Python 3",
   "language": "python",
   "name": "python3"
  },
  "language_info": {
   "codemirror_mode": {
    "name": "ipython",
    "version": 3
   },
   "file_extension": ".py",
   "mimetype": "text/x-python",
   "name": "python",
   "nbconvert_exporter": "python",
   "pygments_lexer": "ipython3",
   "version": "3.7.6"
  }
 },
 "nbformat": 4,
 "nbformat_minor": 4
}
