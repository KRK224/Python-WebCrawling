{
 "cells": [
  {
   "cell_type": "code",
   "execution_count": 26,
   "metadata": {},
   "outputs": [],
   "source": [
    "from selenium import webdriver as wd\n",
    "from bs4 import BeautifulSoup as bs\n",
    "import requests\n",
    "import csv\n",
    "import datetime\n",
    "\n",
    "driver = wd.Chrome('./chromedriver')\n",
    "driver.implicitly_wait(1)\n",
    "driver.get('https://www.law360.com/')\n",
    "driver.implicitly_wait(1)\n",
    "\n",
    "signin = driver.find_element_by_xpath('//*[@id=\"navigation_new\"]/div[2]/div[1]/span/a')\n",
    "signin.click()\n",
    "driver.implicitly_wait(1)"
   ]
  },
  {
   "cell_type": "code",
   "execution_count": 27,
   "metadata": {},
   "outputs": [],
   "source": [
    "email = driver.find_element_by_xpath('//*[@id=\"email\"]')\n",
    "pw = driver.find_element_by_xpath('//*[@id=\"password\"]')\n",
    "submit = driver.find_element_by_xpath('//*[@id=\"btnSignIn\"]')\n",
    "\n",
    "email.send_keys('XXXXXXXXX')\n",
    "pw.send_keys('XXXXXXXX')\n",
    "submit.click()\n",
    "driver.implicitly_wait(1)"
   ]
  },
  {
   "cell_type": "code",
   "execution_count": 28,
   "metadata": {},
   "outputs": [],
   "source": [
    "srchInput = driver.find_element_by_xpath('//*[@id=\"global_search_field\"]')\n",
    "srchBtn = driver.find_element_by_xpath('//*[@id=\"btnSearchResults\"]')\n",
    "\n",
    "srchInput.send_keys('Samsung')\n",
    "srchBtn.click()\n"
   ]
  },
  {
   "cell_type": "code",
   "execution_count": null,
   "metadata": {},
   "outputs": [],
   "source": []
  }
 ],
 "metadata": {
  "kernelspec": {
   "display_name": "Python 3",
   "language": "python",
   "name": "python3"
  },
  "language_info": {
   "codemirror_mode": {
    "name": "ipython",
    "version": 3
   },
   "file_extension": ".py",
   "mimetype": "text/x-python",
   "name": "python",
   "nbconvert_exporter": "python",
   "pygments_lexer": "ipython3",
   "version": "3.7.6"
  }
 },
 "nbformat": 4,
 "nbformat_minor": 4
}
